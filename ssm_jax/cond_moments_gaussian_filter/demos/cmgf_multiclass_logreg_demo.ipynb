{
  "nbformat": 4,
  "nbformat_minor": 0,
  "metadata": {
    "colab": {
      "provenance": []
    },
    "kernelspec": {
      "name": "python3",
      "display_name": "Python 3"
    },
    "language_info": {
      "name": "python"
    }
  },
  "cells": [
    {
      "cell_type": "markdown",
      "source": [
        "# Online Multiclass Logistic Regression using CMGF"
      ],
      "metadata": {
        "id": "4c2rXBc6oQKt"
      }
    },
    {
      "cell_type": "markdown",
      "source": [
        "##0. Imports"
      ],
      "metadata": {
        "id": "D15lpL3fD7f1"
      }
    },
    {
      "cell_type": "code",
      "source": [
        "# Silence WARNING:root:The use of `check_types` is deprecated and does not have any effect.\n",
        "# https://github.com/tensorflow/probability/issues/1523\n",
        "import logging, sys, warnings, os\n",
        "\n",
        "logger = logging.getLogger()\n",
        "\n",
        "\n",
        "class CheckTypesFilter(logging.Filter):\n",
        "    def filter(self, record):\n",
        "        return \"check_types\" not in record.getMessage()\n",
        "\n",
        "\n",
        "logger.addFilter(CheckTypesFilter())\n",
        "\n",
        "if not sys.warnoptions:\n",
        "    warnings.simplefilter(\"ignore\")\n",
        "    os.environ[\"PYTHONWARNINGS\"] = \"ignore\" # Also affect subprocesses"
      ],
      "metadata": {
        "id": "Vo3x6Kglg4IY"
      },
      "execution_count": 94,
      "outputs": []
    },
    {
      "cell_type": "code",
      "source": [
        "try:\n",
        "    from ssm_jax.cond_moments_gaussian_filter.inference import *\n",
        "    from ssm_jax.cond_moments_gaussian_filter.containers import *\n",
        "except ModuleNotFoundError:\n",
        "    print('installing ssm_jax')\n",
        "    %pip install -qq git+https://github.com/probml/ssm-jax.git\n",
        "    from ssm_jax.cond_moments_gaussian_filter.inference import *\n",
        "    from ssm_jax.cond_moments_gaussian_filter.containers import *"
      ],
      "metadata": {
        "id": "uEBbL-EJnWxZ",
        "colab": {
          "base_uri": "https://localhost:8080/"
        },
        "outputId": "1295042b-8d16-4f66-9249-f1fb0c1e499c"
      },
      "execution_count": 2,
      "outputs": [
        {
          "output_type": "stream",
          "name": "stdout",
          "text": [
            "installing ssm_jax\n",
            "  Installing build dependencies ... \u001b[?25l\u001b[?25hdone\n",
            "  Getting requirements to build wheel ... \u001b[?25l\u001b[?25hdone\n",
            "    Preparing wheel metadata ... \u001b[?25l\u001b[?25hdone\n",
            "\u001b[K     |████████████████████████████████| 180 kB 5.2 MB/s \n",
            "\u001b[K     |████████████████████████████████| 106 kB 54.8 MB/s \n",
            "\u001b[K     |████████████████████████████████| 145 kB 61.3 MB/s \n",
            "\u001b[K     |████████████████████████████████| 76 kB 4.9 MB/s \n",
            "\u001b[K     |████████████████████████████████| 128 kB 60.8 MB/s \n",
            "\u001b[K     |████████████████████████████████| 217 kB 51.0 MB/s \n",
            "\u001b[K     |████████████████████████████████| 51 kB 6.0 MB/s \n",
            "\u001b[?25h  Building wheel for ssm-jax (PEP 517) ... \u001b[?25l\u001b[?25hdone\n"
          ]
        },
        {
          "output_type": "stream",
          "name": "stderr",
          "text": [
            "WARNING:absl:No GPU/TPU found, falling back to CPU. (Set TF_CPP_MIN_LOG_LEVEL=0 and rerun for more info.)\n"
          ]
        }
      ]
    },
    {
      "cell_type": "code",
      "source": [
        "from warnings import simplefilter\n",
        "\n",
        "import matplotlib.pyplot as plt\n",
        "\n",
        "import jax\n",
        "import jax.numpy as jnp\n",
        "import jax.random as jr\n",
        "from sklearn.datasets import make_classification\n",
        "from sklearn.model_selection import cross_val_score\n",
        "from sklearn.model_selection import RepeatedStratifiedKFold\n",
        "from sklearn.linear_model import LogisticRegression\n",
        "from sklearn import preprocessing\n",
        "from sklearn.base import BaseEstimator, ClassifierMixin\n",
        "from sklearn.preprocessing import OneHotEncoder\n",
        "from sklearn.exceptions import ConvergenceWarning"
      ],
      "metadata": {
        "id": "NDRvXsqQpcDv"
      },
      "execution_count": 97,
      "outputs": []
    },
    {
      "cell_type": "markdown",
      "source": [
        "## 1. CMGF Model for Online Multiclass Logistic Regression"
      ],
      "metadata": {
        "id": "2MIMhuR-EF47"
      }
    },
    {
      "cell_type": "markdown",
      "source": [
        "Note that the moments of a (one-hot-encoded) categorical distribution with $K$ possible classes are as follows:\n",
        "\n",
        "$$\\mathbb{E}[\\vec{y}|\\vec{x}, \\textbf{W}] =  \\begin{pmatrix} \\sigma_2(\\textbf{W}^T\\vec{x}) \\\\ \\sigma_3(\\textbf{W}^T\\vec{x}) \\\\ \\vdots \\\\ \\sigma_K(\\textbf{W}^T\\vec{x}) \\end{pmatrix}\n",
        "$$\n",
        "$$Cov[\\vec{y}|\\vec{x}, \\textbf{W}] = \\begin{pmatrix} p_2 (1 - p_2) & -p_2 p_3 & \\dots & -p_2 p_K \\\\\n",
        "-p_2 p_3 & p_3 (1 - p_3) & \\dots  & -p_3 p_K \\\\\n",
        "\\vdots & \\vdots & \\ddots & \\vdots \\\\\n",
        "-p_2 p_K & -p_3 p_K & \\dots & p_K (1 - p_K)\n",
        " \\end{pmatrix}$$\n",
        "where $\\vec{\\sigma}(\\cdot)$ is the softmax function.\n",
        "\n",
        "Note that in order to prevent the \"Dummy Variable Trap,\" we drop the first column.\n",
        "\n",
        "Thus, we can build a generic multiclass CMGF classifier that works with the `scikit-learn` cross validation tool as follows.\n",
        "\n"
      ],
      "metadata": {
        "id": "xExedRgYEv6X"
      }
    },
    {
      "cell_type": "code",
      "source": [
        "def fill_diagonal(A, elts):\n",
        "    # Taken from https://github.com/google/jax/issues/2680\n",
        "    elts = jnp.ravel(elts)\n",
        "    i, j = jnp.diag_indices(min(A.shape[-2:]))\n",
        "    return A.at[..., i, j].set(elts)"
      ],
      "metadata": {
        "id": "q713feGREIXA"
      },
      "execution_count": 16,
      "outputs": []
    },
    {
      "cell_type": "code",
      "source": [
        "class CMGFEstimator(BaseEstimator, ClassifierMixin):\n",
        "    def __init__(self, params, mean=None, cov=None):\n",
        "        self.params = params\n",
        "        self.mean = mean\n",
        "        self.cov = cov\n",
        "\n",
        "    def fit(self, X, y):\n",
        "        X_bias = jnp.concatenate([jnp.ones((len(X), 1)), X], axis=1)\n",
        "        # Encode output as one-hot-encoded vectors with first column dropped,\n",
        "        # i.e., [0, ..., 0] correspondes to 1st class\n",
        "        # This is done to prevent the \"Dummy Variable Trap\".\n",
        "        enc = OneHotEncoder(drop='first')\n",
        "        y_oh = jnp.array(enc.fit_transform(y.reshape(-1, 1)).toarray())\n",
        "        input_dim = X_bias.shape[-1]\n",
        "        num_classes = y_oh.shape[-1] + 1\n",
        "        weight_dim = input_dim * num_classes\n",
        "        \n",
        "        initial_mean, initial_covariance = jnp.zeros(weight_dim), jnp.eye(weight_dim)\n",
        "        dynamics_function = lambda w, x: w\n",
        "        dynamics_covariance = jnp.zeros((weight_dim, weight_dim))\n",
        "        emission_mean_function = lambda w, x: jax.nn.softmax(x @ w.reshape(input_dim, -1))[1:]\n",
        "        def emission_var_function(w, x):\n",
        "            ps = jnp.atleast_2d(emission_mean_function(w, x))\n",
        "            return fill_diagonal(ps.T @ -ps, ps * (1-ps))\n",
        "        cmgf_params = self.params(\n",
        "            initial_mean = initial_mean,\n",
        "            initial_covariance = initial_covariance,\n",
        "            dynamics_function = dynamics_function,\n",
        "            dynamics_covariance = dynamics_covariance,\n",
        "            emission_mean_function = emission_mean_function,\n",
        "            emission_var_function = emission_var_function\n",
        "        )\n",
        "        post = conditional_moments_gaussian_filter(cmgf_params, y_oh, inputs = X_bias)\n",
        "        post_means, post_covs = post.filtered_means, post.filtered_covariances\n",
        "        self.mean, self.cov = post_means[-1], post_covs[-1]\n",
        "        return self\n",
        "    \n",
        "    def predict(self, X, y=None):\n",
        "        X_bias = jnp.concatenate([jnp.ones((len(X), 1)), X], axis=1)\n",
        "        return jnp.argmax(jax.nn.softmax(X_bias @ self.mean.reshape(X_bias.shape[-1], -1)), axis=1)"
      ],
      "metadata": {
        "id": "saBspc73FGNf"
      },
      "execution_count": 17,
      "outputs": []
    },
    {
      "cell_type": "code",
      "source": [
        "# def repeated_kfold_cv(model, X, y, n_splits=10, n_repeats=3, key=1):\n",
        "#     if isinstance(key, int):\n",
        "#         key = jr.PRNGKey(key)\n",
        "#     key, subkey = jr.split(key, 2)\n",
        "#     num_points = len(y)\n",
        "#     accuracy_score = 0\n",
        "#     for _ in range(n_repeats):\n",
        "#         idx = jr.permutation(key, jnp.arange(num_points))\n",
        "#         kfolds = jnp.array_split(idx, n_splits)\n",
        "#         for i in range(n_splits):\n",
        "#             test_idx = kfolds[i]\n",
        "#             train_idx = jnp.concatenate(kfolds[:i] + kfolds[i+1:])\n",
        "#             X_train, y_train = X[train_idx], y[train_idx]\n",
        "#             X_test, y_test = X[test_idx], y[test_idx]\n",
        "#             model = model.fit(X_train, y_train)\n",
        "#             y_predict = model.predict(X_test)\n",
        "#             accuracy_score += 1 - (jnp.abs(y_predict - y_test).sum() / len(test_idx))\n",
        "#     return accuracy_score / (n_splits * n_repeats)"
      ],
      "metadata": {
        "id": "dd5ixTIILah_"
      },
      "execution_count": null,
      "outputs": []
    },
    {
      "cell_type": "markdown",
      "source": [
        "##2. Accuracy Comparison with SGD"
      ],
      "metadata": {
        "id": "gL591ok4Hs5s"
      }
    },
    {
      "cell_type": "markdown",
      "source": [
        "We compare classification accuracy of CMGF with those of one-pass SGD and multi-pass SGD using 10-fold cross validation."
      ],
      "metadata": {
        "id": "ziBWqA7HYHx8"
      }
    },
    {
      "cell_type": "code",
      "source": [
        "# # Helper function to compute accuracy measure\n",
        "# def compute_accuracy(model, input, output, fit=True):\n",
        "#     if fit:\n",
        "#         model = model.fit(input, output)\n",
        "#     return jnp.count_nonzero(model.predict(input) - output == 0) / len(output)\n",
        "\n",
        "# # Print training accuracy\n",
        "# cmgf_model, sgd_model = CMGFEstimator(EKFParams), LogisticRegression(multi_class='multinomial', solver='sag', max_iter=1)\n",
        "# print(f'CMGF training accuracy: {compute_accuracy(cmgf_model, input, output)}')\n",
        "# print(f'SGD training accuracy: {compute_accuracy(sgd_model, input, output)}')"
      ],
      "metadata": {
        "id": "i7ScoJbZe7rR"
      },
      "execution_count": null,
      "outputs": []
    },
    {
      "cell_type": "code",
      "source": [
        "def compute_cv_accuracies(num_points, num_classes):\n",
        "    input, output = make_classification(n_samples=num_points, n_features=num_classes+1, \n",
        "                                        n_informative=num_classes+1, n_redundant=0, n_classes=num_classes, random_state=2)\n",
        "    scaler = preprocessing.StandardScaler().fit(input)\n",
        "    input, output = jnp.array(scaler.transform(input)), jnp.array(output)\n",
        "\n",
        "    cv = RepeatedStratifiedKFold(n_splits=10, n_repeats=1, random_state=1)\n",
        "\n",
        "    cmgf_est = CMGFEstimator(EKFParams)\n",
        "\n",
        "    cmgf_score = cross_val_score(cmgf_est, input, output, scoring='accuracy', cv=cv, n_jobs=-1, error_score='raise').mean()\n",
        "    sag_op_score = cross_val_score(LogisticRegression(multi_class='multinomial', solver='sag', max_iter=1), input, output, scoring='accuracy', cv=cv, n_jobs=-1, error_score='raise').mean()\n",
        "    sag_mp_score = cross_val_score(LogisticRegression(multi_class='multinomial', solver='sag'), input, output, scoring='accuracy', cv=cv, n_jobs=-1, error_score='raise').mean()\n",
        "\n",
        "    return cmgf_score, sag_op_score, sag_mp_score\n"
      ],
      "metadata": {
        "id": "JFvfXOraIJoQ"
      },
      "execution_count": 67,
      "outputs": []
    },
    {
      "cell_type": "code",
      "source": [
        "num_points = 1000\n",
        "class_range = range(2, 19)\n",
        "\n",
        "cmgf_accuracies, sgd_onepass_accuracies, sgd_multipass_accuracies = [], [], []\n",
        "for num_classes in class_range:\n",
        "    print(f'{num_points} data points, {num_classes} classes.')\n",
        "    cmgf_ac, sgd_op_ac, sgd_mp_ac = compute_cv_accuracies(num_points, num_classes)\n",
        "    cmgf_accuracies.append(cmgf_ac)\n",
        "    print(f'EKF-CMGF estimate average accuracy = {cmgf_ac}')\n",
        "    sgd_onepass_accuracies.append(sgd_op_ac)\n",
        "    print(f'One-pass sag estimate average accuracy = {sgd_op_ac}')\n",
        "    sgd_multipass_accuracies.append(sgd_mp_ac)\n",
        "    print(f'Multi-pass sag estimate average accuracy = {sgd_mp_ac}')\n",
        "    "
      ],
      "metadata": {
        "colab": {
          "base_uri": "https://localhost:8080/"
        },
        "id": "LFIhl10fH8z6",
        "outputId": "6641ce04-4233-4a3e-be4f-0d75f5338974"
      },
      "execution_count": 85,
      "outputs": [
        {
          "output_type": "stream",
          "name": "stdout",
          "text": [
            "1000 data points, 2 classes.\n",
            "EKF-CMGF estimate average accuracy = 0.9040000000000001\n",
            "One-pass sag estimate average accuracy = 0.8930000000000001\n",
            "Multi-pass sag estimate average accuracy = 0.905\n",
            "1000 data points, 3 classes.\n",
            "EKF-CMGF estimate average accuracy = 0.627\n",
            "One-pass sag estimate average accuracy = 0.5860000000000001\n",
            "Multi-pass sag estimate average accuracy = 0.628\n",
            "1000 data points, 4 classes.\n",
            "EKF-CMGF estimate average accuracy = 0.5499999999999999\n",
            "One-pass sag estimate average accuracy = 0.48200000000000004\n",
            "Multi-pass sag estimate average accuracy = 0.5489999999999998\n",
            "1000 data points, 5 classes.\n",
            "EKF-CMGF estimate average accuracy = 0.48999999999999994\n",
            "One-pass sag estimate average accuracy = 0.437\n",
            "Multi-pass sag estimate average accuracy = 0.483\n",
            "1000 data points, 6 classes.\n",
            "EKF-CMGF estimate average accuracy = 0.5640000000000001\n",
            "One-pass sag estimate average accuracy = 0.5289999999999999\n",
            "Multi-pass sag estimate average accuracy = 0.5670000000000001\n",
            "1000 data points, 7 classes.\n",
            "EKF-CMGF estimate average accuracy = 0.45\n",
            "One-pass sag estimate average accuracy = 0.418\n",
            "Multi-pass sag estimate average accuracy = 0.445\n",
            "1000 data points, 8 classes.\n",
            "EKF-CMGF estimate average accuracy = 0.373\n",
            "One-pass sag estimate average accuracy = 0.356\n",
            "Multi-pass sag estimate average accuracy = 0.384\n",
            "1000 data points, 9 classes.\n",
            "EKF-CMGF estimate average accuracy = 0.46499999999999997\n",
            "One-pass sag estimate average accuracy = 0.42600000000000005\n",
            "Multi-pass sag estimate average accuracy = 0.4629999999999999\n",
            "1000 data points, 10 classes.\n",
            "EKF-CMGF estimate average accuracy = 0.4130000000000001\n",
            "One-pass sag estimate average accuracy = 0.38699999999999996\n",
            "Multi-pass sag estimate average accuracy = 0.41\n",
            "1000 data points, 11 classes.\n",
            "EKF-CMGF estimate average accuracy = 0.387\n",
            "One-pass sag estimate average accuracy = 0.34299999999999997\n",
            "Multi-pass sag estimate average accuracy = 0.393\n",
            "1000 data points, 12 classes.\n"
          ]
        },
        {
          "output_type": "stream",
          "name": "stderr",
          "text": [
            "/usr/local/lib/python3.7/dist-packages/joblib/externals/loky/process_executor.py:705: UserWarning: A worker stopped while some jobs were given to the executor. This can be caused by a too short worker timeout or by a memory leak.\n",
            "  \"timeout or by a memory leak.\", UserWarning\n"
          ]
        },
        {
          "output_type": "stream",
          "name": "stdout",
          "text": [
            "EKF-CMGF estimate average accuracy = 0.35900000000000004\n",
            "One-pass sag estimate average accuracy = 0.33\n",
            "Multi-pass sag estimate average accuracy = 0.365\n",
            "1000 data points, 13 classes.\n",
            "EKF-CMGF estimate average accuracy = 0.33199999999999996\n",
            "One-pass sag estimate average accuracy = 0.29000000000000004\n",
            "Multi-pass sag estimate average accuracy = 0.33999999999999997\n",
            "1000 data points, 14 classes.\n",
            "EKF-CMGF estimate average accuracy = 0.31100000000000005\n",
            "One-pass sag estimate average accuracy = 0.29100000000000004\n",
            "Multi-pass sag estimate average accuracy = 0.31900000000000006\n",
            "1000 data points, 15 classes.\n",
            "EKF-CMGF estimate average accuracy = 0.257\n",
            "One-pass sag estimate average accuracy = 0.257\n",
            "Multi-pass sag estimate average accuracy = 0.261\n",
            "1000 data points, 16 classes.\n",
            "EKF-CMGF estimate average accuracy = 0.257\n",
            "One-pass sag estimate average accuracy = 0.24300000000000002\n",
            "Multi-pass sag estimate average accuracy = 0.272\n",
            "1000 data points, 17 classes.\n"
          ]
        },
        {
          "output_type": "stream",
          "name": "stderr",
          "text": [
            "/usr/local/lib/python3.7/dist-packages/joblib/externals/loky/process_executor.py:705: UserWarning: A worker stopped while some jobs were given to the executor. This can be caused by a too short worker timeout or by a memory leak.\n",
            "  \"timeout or by a memory leak.\", UserWarning\n"
          ]
        },
        {
          "output_type": "stream",
          "name": "stdout",
          "text": [
            "EKF-CMGF estimate average accuracy = 0.2840000000000001\n",
            "One-pass sag estimate average accuracy = 0.262\n",
            "Multi-pass sag estimate average accuracy = 0.291\n",
            "1000 data points, 18 classes.\n",
            "EKF-CMGF estimate average accuracy = 0.257\n",
            "One-pass sag estimate average accuracy = 0.23700000000000002\n",
            "Multi-pass sag estimate average accuracy = 0.25600000000000006\n"
          ]
        }
      ]
    },
    {
      "cell_type": "code",
      "source": [
        "# Plot result\n",
        "fig, ax = plt.subplots()\n",
        "ax.plot(class_range, cmgf_accuracies, 'r', label='CMGF-EKF')\n",
        "ax.plot(class_range, sgd_onepass_accuracies, 'y', label='SGD (single pass)')\n",
        "ax.plot(class_range, sgd_multipass_accuracies, 'b--', label='SGD (multi pass)')\n",
        "ax.set_xticks(class_range)\n",
        "ax.set_xlabel('Number of output classes')\n",
        "ax.set_ylabel('10-fold cv average accuracy')\n",
        "ax.set_title('10-fold cv accuracy (CMGF vs SGD )')\n",
        "ax.legend();"
      ],
      "metadata": {
        "colab": {
          "base_uri": "https://localhost:8080/",
          "height": 295
        },
        "id": "Gzb7T-PFIE3w",
        "outputId": "dbcd4f6c-ff87-43e0-d2d2-dad6e1b9719d"
      },
      "execution_count": 86,
      "outputs": [
        {
          "output_type": "display_data",
          "data": {
            "text/plain": [
              "<Figure size 432x288 with 1 Axes>"
            ],
            "image/png": "[encoded data removed]"
          },
          "metadata": {
            "needs_background": "light"
          }
        }
      ]
    },
    {
      "cell_type": "markdown",
      "source": [
        "##3. Speed Comparison with SGD"
      ],
      "metadata": {
        "id": "QFI8SWLlZB64"
      }
    },
    {
      "cell_type": "code",
      "source": [
        "data_size_grid = list(range(20, 100, 20)) + list(range(100, 1000, 100)) + list(range(1000, 10000, 1000)) \\\n",
        "                 + list(range(10000, 100000, 10000)) + list(range(100000, 1000000, 100000))"
      ],
      "metadata": {
        "id": "vbUoTxjvZ37D"
      },
      "execution_count": 118,
      "outputs": []
    },
    {
      "cell_type": "code",
      "source": [
        "cmgf_est = CMGFEstimator(EKFParams)\n",
        "sgd_op_est = LogisticRegression(multi_class='multinomial', solver='sag', max_iter=1)\n",
        "sgd_mp_est = LogisticRegression(multi_class='multinomial', solver='sag')\n",
        "\n",
        "# Plot timed results against different dataset sizes\n",
        "# with fixed class size (K = 3)\n",
        "import numpy as np\n",
        "import time\n",
        "\n",
        "cmgf_times, sgd_op_times, sgd_mp_times = [], [], []\n",
        "\n",
        "it_times, vec_times = [], []\n",
        "for data_size in data_size_grid:\n",
        "    print(f'dataset of size {data_size}')\n",
        "    simplefilter(\"ignore\", category=ConvergenceWarning)\n",
        "    input, output = make_classification(n_samples=data_size, n_features=4, n_informative=4, \n",
        "                                        n_redundant=0, n_classes=3, random_state=2)\n",
        "    start = time.time()\n",
        "    _ = cmgf_est.fit(input, output)\n",
        "    cmgf_time = time.time() - start\n",
        "    cmgf_times.append(cmgf_time)\n",
        "    print(f'cmgf took {cmgf_time} seconds.')\n",
        "\n",
        "    start = time.time()\n",
        "    _ = sgd_op_est.fit(input, output)\n",
        "    sgd_op_time = time.time() - start\n",
        "    sgd_op_times.append(sgd_op_time)\n",
        "    print(f'one-pass sgd took {sgd_op_time} seconds.')\n",
        "\n",
        "    start = time.time()\n",
        "    _ = sgd_mp_est.fit(input, output)\n",
        "    sgd_mp_time = time.time() - start\n",
        "    sgd_mp_times.append(sgd_mp_time)\n",
        "    print(f'multi-pass sgd took {sgd_mp_time} seconds.')"
      ],
      "metadata": {
        "colab": {
          "base_uri": "https://localhost:8080/"
        },
        "id": "xiavnsxuZrHy",
        "outputId": "d15509d1-727d-40d5-b544-9f0e9810e5d3"
      },
      "execution_count": 119,
      "outputs": [
        {
          "output_type": "stream",
          "name": "stdout",
          "text": [
            "dataset of size 20\n",
            "cmgf took 0.9309427738189697 seconds.\n",
            "one-pass sgd took 0.002666950225830078 seconds.\n",
            "multi-pass sgd took 0.0022385120391845703 seconds.\n",
            "dataset of size 40\n",
            "cmgf took 1.0186986923217773 seconds.\n",
            "one-pass sgd took 0.002943277359008789 seconds.\n",
            "multi-pass sgd took 0.0024518966674804688 seconds.\n",
            "dataset of size 60\n",
            "cmgf took 0.9945847988128662 seconds.\n",
            "one-pass sgd took 0.003154277801513672 seconds.\n",
            "multi-pass sgd took 0.002506256103515625 seconds.\n",
            "dataset of size 80\n",
            "cmgf took 1.2709181308746338 seconds.\n",
            "one-pass sgd took 0.001417398452758789 seconds.\n",
            "multi-pass sgd took 0.002413034439086914 seconds.\n",
            "dataset of size 100\n",
            "cmgf took 0.8947799205780029 seconds.\n",
            "one-pass sgd took 0.0023691654205322266 seconds.\n",
            "multi-pass sgd took 0.003864288330078125 seconds.\n",
            "dataset of size 200\n",
            "cmgf took 0.8793232440948486 seconds.\n",
            "one-pass sgd took 0.0014786720275878906 seconds.\n",
            "multi-pass sgd took 0.003346681594848633 seconds.\n",
            "dataset of size 300\n",
            "cmgf took 0.8853297233581543 seconds.\n",
            "one-pass sgd took 0.0032966136932373047 seconds.\n",
            "multi-pass sgd took 0.005604267120361328 seconds.\n",
            "dataset of size 400\n",
            "cmgf took 0.9961042404174805 seconds.\n",
            "one-pass sgd took 0.003363370895385742 seconds.\n",
            "multi-pass sgd took 0.005622148513793945 seconds.\n",
            "dataset of size 500\n",
            "cmgf took 1.22605299949646 seconds.\n",
            "one-pass sgd took 0.0032148361206054688 seconds.\n",
            "multi-pass sgd took 0.0075037479400634766 seconds.\n",
            "dataset of size 600\n",
            "cmgf took 1.0031979084014893 seconds.\n",
            "one-pass sgd took 0.0032491683959960938 seconds.\n",
            "multi-pass sgd took 0.008136510848999023 seconds.\n",
            "dataset of size 700\n",
            "cmgf took 1.0135183334350586 seconds.\n",
            "one-pass sgd took 0.003277301788330078 seconds.\n",
            "multi-pass sgd took 0.008383989334106445 seconds.\n",
            "dataset of size 800\n",
            "cmgf took 1.0193231105804443 seconds.\n",
            "one-pass sgd took 0.0019063949584960938 seconds.\n",
            "multi-pass sgd took 0.009073495864868164 seconds.\n",
            "dataset of size 900\n",
            "cmgf took 1.0207557678222656 seconds.\n",
            "one-pass sgd took 0.003417491912841797 seconds.\n",
            "multi-pass sgd took 0.010713815689086914 seconds.\n",
            "dataset of size 1000\n",
            "cmgf took 0.9333627223968506 seconds.\n",
            "one-pass sgd took 0.0033371448516845703 seconds.\n",
            "multi-pass sgd took 0.009990215301513672 seconds.\n",
            "dataset of size 2000\n",
            "cmgf took 0.9185383319854736 seconds.\n",
            "one-pass sgd took 0.0026092529296875 seconds.\n",
            "multi-pass sgd took 0.018504858016967773 seconds.\n",
            "dataset of size 3000\n",
            "cmgf took 1.0241031646728516 seconds.\n",
            "one-pass sgd took 0.0031588077545166016 seconds.\n",
            "multi-pass sgd took 0.02856588363647461 seconds.\n",
            "dataset of size 4000\n",
            "cmgf took 1.0431241989135742 seconds.\n",
            "one-pass sgd took 0.005265235900878906 seconds.\n",
            "multi-pass sgd took 0.03454256057739258 seconds.\n",
            "dataset of size 5000\n",
            "cmgf took 0.9421696662902832 seconds.\n",
            "one-pass sgd took 0.005012989044189453 seconds.\n",
            "multi-pass sgd took 0.046712636947631836 seconds.\n",
            "dataset of size 6000\n",
            "cmgf took 1.0543639659881592 seconds.\n",
            "one-pass sgd took 0.006036281585693359 seconds.\n",
            "multi-pass sgd took 0.05969047546386719 seconds.\n",
            "dataset of size 7000\n",
            "cmgf took 1.0443153381347656 seconds.\n",
            "one-pass sgd took 0.006605625152587891 seconds.\n",
            "multi-pass sgd took 0.05038738250732422 seconds.\n",
            "dataset of size 8000\n",
            "cmgf took 1.0720970630645752 seconds.\n",
            "one-pass sgd took 0.011806964874267578 seconds.\n",
            "multi-pass sgd took 0.07462453842163086 seconds.\n",
            "dataset of size 9000\n",
            "cmgf took 1.0558536052703857 seconds.\n",
            "one-pass sgd took 0.007881879806518555 seconds.\n",
            "multi-pass sgd took 0.07936406135559082 seconds.\n",
            "dataset of size 10000\n",
            "cmgf took 0.9598245620727539 seconds.\n",
            "one-pass sgd took 0.007944822311401367 seconds.\n",
            "multi-pass sgd took 0.09060478210449219 seconds.\n",
            "dataset of size 20000\n",
            "cmgf took 1.0600147247314453 seconds.\n",
            "one-pass sgd took 0.016116619110107422 seconds.\n",
            "multi-pass sgd took 0.18999004364013672 seconds.\n",
            "dataset of size 30000\n",
            "cmgf took 1.6608595848083496 seconds.\n",
            "one-pass sgd took 0.02315998077392578 seconds.\n",
            "multi-pass sgd took 0.2543056011199951 seconds.\n",
            "dataset of size 40000\n",
            "cmgf took 1.2563700675964355 seconds.\n",
            "one-pass sgd took 0.029158353805541992 seconds.\n",
            "multi-pass sgd took 0.4296138286590576 seconds.\n",
            "dataset of size 50000\n",
            "cmgf took 1.4498765468597412 seconds.\n",
            "one-pass sgd took 0.04103279113769531 seconds.\n",
            "multi-pass sgd took 0.507544755935669 seconds.\n",
            "dataset of size 60000\n",
            "cmgf took 1.459076166152954 seconds.\n",
            "one-pass sgd took 0.045830488204956055 seconds.\n",
            "multi-pass sgd took 0.5747735500335693 seconds.\n",
            "dataset of size 70000\n",
            "cmgf took 1.589146375656128 seconds.\n",
            "one-pass sgd took 0.0557100772857666 seconds.\n",
            "multi-pass sgd took 0.8304078578948975 seconds.\n",
            "dataset of size 80000\n",
            "cmgf took 1.6098079681396484 seconds.\n",
            "one-pass sgd took 0.059046268463134766 seconds.\n",
            "multi-pass sgd took 1.1528770923614502 seconds.\n",
            "dataset of size 90000\n",
            "cmgf took 1.7976653575897217 seconds.\n",
            "one-pass sgd took 0.07562851905822754 seconds.\n",
            "multi-pass sgd took 1.1615235805511475 seconds.\n",
            "dataset of size 100000\n",
            "cmgf took 1.8181087970733643 seconds.\n",
            "one-pass sgd took 0.07623457908630371 seconds.\n",
            "multi-pass sgd took 1.327629804611206 seconds.\n",
            "dataset of size 200000\n",
            "cmgf took 2.939279317855835 seconds.\n",
            "one-pass sgd took 0.18793940544128418 seconds.\n",
            "multi-pass sgd took 3.3260278701782227 seconds.\n",
            "dataset of size 300000\n",
            "cmgf took 3.806842565536499 seconds.\n",
            "one-pass sgd took 0.30527162551879883 seconds.\n",
            "multi-pass sgd took 5.767649173736572 seconds.\n",
            "dataset of size 400000\n",
            "cmgf took 4.680080890655518 seconds.\n",
            "one-pass sgd took 0.431384801864624 seconds.\n",
            "multi-pass sgd took 7.490229606628418 seconds.\n",
            "dataset of size 500000\n",
            "cmgf took 7.175855875015259 seconds.\n",
            "one-pass sgd took 0.5067243576049805 seconds.\n",
            "multi-pass sgd took 7.8326263427734375 seconds.\n",
            "dataset of size 600000\n",
            "cmgf took 6.378360271453857 seconds.\n",
            "one-pass sgd took 0.608142614364624 seconds.\n",
            "multi-pass sgd took 11.549638748168945 seconds.\n",
            "dataset of size 700000\n",
            "cmgf took 7.334892272949219 seconds.\n",
            "one-pass sgd took 0.7208635807037354 seconds.\n",
            "multi-pass sgd took 13.350152969360352 seconds.\n",
            "dataset of size 800000\n",
            "cmgf took 9.021437644958496 seconds.\n",
            "one-pass sgd took 0.8477358818054199 seconds.\n",
            "multi-pass sgd took 16.57368040084839 seconds.\n",
            "dataset of size 900000\n",
            "cmgf took 8.99544382095337 seconds.\n",
            "one-pass sgd took 0.9436743259429932 seconds.\n",
            "multi-pass sgd took 15.355107545852661 seconds.\n"
          ]
        }
      ]
    },
    {
      "cell_type": "code",
      "source": [
        "# Plot the result\n",
        "fig, ax = plt.subplots()\n",
        "ax.plot(data_size_grid, cmgf_times, label='CMGF-EKF')\n",
        "ax.plot(data_size_grid, sgd_op_times, label='SGD (single pass)')\n",
        "ax.plot(data_size_grid, sgd_mp_times, label='SGD (multi pass)')\n",
        "ax.set_xlabel('Dataset size')\n",
        "ax.set_ylabel('Train time in s')\n",
        "ax.set_title('Train speed vs dataset size (CMGF vs SGD)')\n",
        "ax.legend();\n",
        "plt.show()"
      ],
      "metadata": {
        "id": "u1DP_RYei8q3",
        "outputId": "150098e6-f170-4440-9619-de899daa19b8",
        "colab": {
          "base_uri": "https://localhost:8080/",
          "height": 295
        }
      },
      "execution_count": 123,
      "outputs": [
        {
          "output_type": "display_data",
          "data": {
            "text/plain": [
              "<Figure size 432x288 with 1 Axes>"
            ],
            "image/png": "[encoded data removed]"
          },
          "metadata": {
            "needs_background": "light"
          }
        }
      ]
    },
    {
      "cell_type": "markdown",
      "source": [
        "##4. (K-1) CMGF Binary Regressions"
      ],
      "metadata": {
        "id": "2bmsihchf--d"
      }
    },
    {
      "cell_type": "markdown",
      "source": [
        "Let us try to construct the multinomial logistic regression as a combination of $(K-1)$ binary logistic regressions."
      ],
      "metadata": {
        "id": "DIe2QkTSgLvF"
      }
    }
  ]
}